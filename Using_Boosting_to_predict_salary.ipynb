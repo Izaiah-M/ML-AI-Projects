{
  "nbformat": 4,
  "nbformat_minor": 0,
  "metadata": {
    "colab": {
      "provenance": [],
      "authorship_tag": "ABX9TyNQiMcvksr7qsIkfewFvkoI"
    },
    "kernelspec": {
      "name": "python3",
      "display_name": "Python 3"
    },
    "language_info": {
      "name": "python"
    }
  },
  "cells": [
    {
      "cell_type": "code",
      "execution_count": 2,
      "metadata": {
        "id": "keeOdll0eagQ"
      },
      "outputs": [],
      "source": [
        "import pandas as pd\n",
        "import numpy as np\n",
        "from sklearn.model_selection import train_test_split\n",
        "\n",
        "from sklearn.tree import DecisionTreeClassifier\n",
        "from sklearn.ensemble import AdaBoostClassifier\n",
        "from sklearn.ensemble import GradientBoostingClassifier\n",
        "\n",
        "import matplotlib.pyplot as plt\n",
        "import seaborn as sns\n",
        "\n",
        "from sklearn.metrics import accuracy_score, precision_score, recall_score, f1_score, confusion_matrix"
      ]
    },
    {
      "cell_type": "code",
      "source": [
        "path_to_data = \"https://archive.ics.uci.edu/ml/machine-learning-databases/adult/adult.data\"\n",
        "\n",
        "col_names = [\n",
        "    'age', 'workclass', 'fnlwgt','education', 'education-num', 'marital-status',\n",
        "    'occupation', 'relationship', 'race', 'sex', 'capital-gain','capital-loss',\n",
        "    'hours-per-week','native-country', 'income'\n",
        "]\n",
        "\n",
        "df = pd.read_csv(path_to_data, header=None, names = col_names)\n",
        "print(df.head())"
      ],
      "metadata": {
        "colab": {
          "base_uri": "https://localhost:8080/"
        },
        "id": "4eJQg07Jer7I",
        "outputId": "529bc21d-4859-4f03-a0c9-964ec394b859"
      },
      "execution_count": 3,
      "outputs": [
        {
          "output_type": "stream",
          "name": "stdout",
          "text": [
            "   age          workclass  fnlwgt   education  education-num  \\\n",
            "0   39          State-gov   77516   Bachelors             13   \n",
            "1   50   Self-emp-not-inc   83311   Bachelors             13   \n",
            "2   38            Private  215646     HS-grad              9   \n",
            "3   53            Private  234721        11th              7   \n",
            "4   28            Private  338409   Bachelors             13   \n",
            "\n",
            "        marital-status          occupation    relationship    race      sex  \\\n",
            "0        Never-married        Adm-clerical   Not-in-family   White     Male   \n",
            "1   Married-civ-spouse     Exec-managerial         Husband   White     Male   \n",
            "2             Divorced   Handlers-cleaners   Not-in-family   White     Male   \n",
            "3   Married-civ-spouse   Handlers-cleaners         Husband   Black     Male   \n",
            "4   Married-civ-spouse      Prof-specialty            Wife   Black   Female   \n",
            "\n",
            "   capital-gain  capital-loss  hours-per-week  native-country  income  \n",
            "0          2174             0              40   United-States   <=50K  \n",
            "1             0             0              13   United-States   <=50K  \n",
            "2             0             0              40   United-States   <=50K  \n",
            "3             0             0              40   United-States   <=50K  \n",
            "4             0             0              40            Cuba   <=50K  \n"
          ]
        }
      ]
    },
    {
      "cell_type": "code",
      "source": [
        "#Clean columns by stripping extra whitespace for columns of type \"object\"\n",
        "for c in df.select_dtypes(include=['object']).columns:\n",
        "    df[c] = df[c].str.strip()\n",
        "\n",
        "target_column = \"income\"\n",
        "raw_feature_cols = [\n",
        "    'age',\n",
        "    'education-num',\n",
        "    'workclass',\n",
        "    'hours-per-week',\n",
        "    'sex',\n",
        "    'race'\n",
        "]\n",
        "\n",
        "##1. Percentage of samples with income < and > 50k\n",
        "print(df[target_column].value_counts(normalize=True))\n",
        "\n",
        "##2. Data types of features\n",
        "print(df[raw_feature_cols].dtypes)\n",
        "\n",
        "##3. Preparing the features\n",
        "\n",
        "X = pd.get_dummies(df[raw_feature_cols], drop_first=True)\n",
        "\n",
        "X.head(n=5)\n",
        "\n",
        "\n",
        "##4. Convert target variable to binary\n",
        "y = np.where(df[target_column] == '<=50K', 0, 1)\n"
      ],
      "metadata": {
        "colab": {
          "base_uri": "https://localhost:8080/"
        },
        "id": "up_PNHoWe2Lb",
        "outputId": "6c5fd517-3c75-4075-fc13-723134c0f1e3"
      },
      "execution_count": 5,
      "outputs": [
        {
          "output_type": "stream",
          "name": "stdout",
          "text": [
            "income\n",
            "<=50K    0.75919\n",
            ">50K     0.24081\n",
            "Name: proportion, dtype: float64\n",
            "age                int64\n",
            "education-num      int64\n",
            "workclass         object\n",
            "hours-per-week     int64\n",
            "sex               object\n",
            "race              object\n",
            "dtype: object\n"
          ]
        }
      ]
    },
    {
      "cell_type": "code",
      "source": [
        "##5a. Create train-est split\n",
        "X_train, X_test, y_train, y_test = train_test_split(X, y, test_size=0.3, random_state=123)\n",
        "##5b. Create base estimator and store it as decision_stump\n",
        "decision_stump = DecisionTreeClassifier(max_depth=1)\n",
        "\n",
        "##6. Create AdaBoost Classifier\n",
        "ada_classifier = AdaBoostClassifier(decision_stump)\n",
        "\n",
        "##7. Create GradientBoost Classifier\n",
        "grad_classifier = GradientBoostingClassifier()\n",
        "\n"
      ],
      "metadata": {
        "id": "tVqK3zyhe_EN"
      },
      "execution_count": 8,
      "outputs": []
    },
    {
      "cell_type": "code",
      "source": [
        "##8a.Fit models and get predictions\n",
        "ada_classifier.fit(X_train, y_train)\n",
        "y_pred_ada = ada_classifier.predict(X_test)\n",
        "\n",
        "grad_classifier.fit(X_train, y_train)\n",
        "y_pred_grad = grad_classifier.predict(X_test)\n",
        "\n",
        "##8b. Print accuracy and F1\n",
        "print(f\"AdaBoost accuracy: {accuracy_score(y_test, y_pred_ada)}\")\n",
        "print(f\"AdaBoost f1-score: {f1_score(y_test, y_pred_ada)}\")\n",
        "\n",
        "print(f\"Gradient Boost accuracy: {accuracy_score(y_test, y_pred_grad)}\")\n",
        "print(f\"Gradient Boost f1-score: {f1_score(y_test, y_pred_grad)}\")\n",
        "\n",
        "##9. Hyperparameter Tuning\n",
        "n_estimators_list = [10, 30, 50, 70, 90]\n"
      ],
      "metadata": {
        "colab": {
          "base_uri": "https://localhost:8080/"
        },
        "id": "lCyoxA7ufQDu",
        "outputId": "ce3b119e-9f77-476a-ccb7-5d068996565b"
      },
      "execution_count": 9,
      "outputs": [
        {
          "output_type": "stream",
          "name": "stdout",
          "text": [
            "AdaBoost accuracy: 0.8118538233186611\n",
            "AdaBoost f1-score: 0.5090811965811965\n",
            "Gradient Boost accuracy: 0.8187122530453476\n",
            "Gradient Boost f1-score: 0.5474060822898033\n"
          ]
        }
      ]
    },
    {
      "cell_type": "code",
      "source": [
        "from sklearn.model_selection import GridSearchCV\n",
        "estimator_parameters = {'n_estimators': n_estimators_list}\n",
        "ada_gridsearch = GridSearchCV(ada_classifier, estimator_parameters, cv=5, scoring='accuracy', verbose=True)\n",
        "ada_gridsearch.fit(X_train, y_train)\n",
        "\n",
        "##10. Plot mean test scores\n",
        "ada_scores_list = ada_gridsearch.cv_results_['mean_test_score']\n",
        "plt.scatter(n_estimators_list, ada_scores_list)\n",
        "plt.show()\n",
        "plt.clf()"
      ],
      "metadata": {
        "colab": {
          "base_uri": "https://localhost:8080/",
          "height": 464
        },
        "id": "PE5oDQUlflA-",
        "outputId": "8bc25805-a14a-4891-83a9-ec123bcf1f31"
      },
      "execution_count": 10,
      "outputs": [
        {
          "output_type": "stream",
          "name": "stdout",
          "text": [
            "Fitting 5 folds for each of 5 candidates, totalling 25 fits\n"
          ]
        },
        {
          "output_type": "display_data",
          "data": {
            "text/plain": [
              "<Figure size 640x480 with 1 Axes>"
            ],
            "image/png": "[encoded data removed]"
          },
          "metadata": {}
        },
        {
          "output_type": "display_data",
          "data": {
            "text/plain": [
              "<Figure size 640x480 with 0 Axes>"
            ]
          },
          "metadata": {}
        }
      ]
    }
  ]
}