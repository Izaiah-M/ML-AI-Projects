{
  "nbformat": 4,
  "nbformat_minor": 0,
  "metadata": {
    "colab": {
      "provenance": [],
      "authorship_tag": "ABX9TyNp5jfWINEcBqShGoUkFy6f"
    },
    "kernelspec": {
      "name": "python3",
      "display_name": "Python 3"
    },
    "language_info": {
      "name": "python"
    }
  },
  "cells": [
    {
      "cell_type": "markdown",
      "source": [
        "## Particle Classification Using PCA\n",
        "\n",
        "In this project, I will classify particles as either gamma (signal) or hadrons (background). Since the features are correlated, I will perform Principal Component Analysis (PCA) to derive a new set of features and select the most informative ones. The dataset was generated using the Monte Carlo program Corsika, as described in D. Heck et al., *CORSIKA: A Monte Carlo Code to Simulate Extensive Air Showers*, Forschungszentrum Karlsruhe FZKA 6019 (1998).  \n",
        "\n",
        "The project is split into two parts:  \n",
        "- **The first part, \"Observing the Dataset,\"** focuses on exploring and understanding the dataset.  \n",
        "- **The second part, \"Performing PCA,\"** involves applying PCA to extract the most valuable features for classification.  \n",
        "\n"
      ],
      "metadata": {
        "id": "IvSUF4plLn1g"
      }
    },
    {
      "cell_type": "code",
      "execution_count": 4,
      "metadata": {
        "id": "WHkK5llXLSfw"
      },
      "outputs": [],
      "source": [
        "import pandas as pd\n",
        "import matplotlib.pyplot as plt\n",
        "import seaborn as sns\n",
        "import numpy as np\n",
        "from sklearn.decomposition import PCA\n",
        "from sklearn.svm import LinearSVC\n",
        "from sklearn.model_selection import train_test_split\n"
      ]
    },
    {
      "cell_type": "markdown",
      "source": [
        "## PART 1:\n",
        "HERE we are going to focus on observing the dataset as stated earlier on, such that we know what we are dealing with."
      ],
      "metadata": {
        "id": "yODx0KI5NVgV"
      }
    },
    {
      "cell_type": "code",
      "source": [
        "# ---------------\n",
        "# Task 1: Drop nan values.\n",
        "# ---------------\n",
        "\n",
        "# Read the csv data as a DataFrame\n",
        "df = pd.read_csv('./telescope_data.csv', index_col=0)\n",
        "\n",
        "# Remove null and na values\n",
        "df.dropna()\n",
        "\n",
        "# Print the DataFrame head\n",
        "print('Task 1:')\n",
        "print(df.head())"
      ],
      "metadata": {
        "id": "IUd4tzUPM9Yc"
      },
      "execution_count": 6,
      "outputs": []
    },
    {
      "cell_type": "code",
      "source": [
        "\n",
        "# ---------------\n",
        "# Task 2: Extract class column.\n",
        "# ---------------\n",
        "# Extract the class classes\n",
        "classes = df['class']\n",
        "data_matrix = df.drop(columns='class')\n",
        "\n",
        "print('Task 2:')\n",
        "print(data_matrix)\n"
      ],
      "metadata": {
        "id": "tDO3g8w8M-ul"
      },
      "execution_count": null,
      "outputs": []
    },
    {
      "cell_type": "code",
      "source": [
        "# ---------------\n",
        "# Task 3: Create a correlation matrix.\n",
        "# ---------------\n",
        "# Use the `.corr()` method on `data_matrix` to get the correlation matrix\n",
        "correlation_matrix = data_matrix.corr()\n",
        "\n",
        "ax = plt.axes()\n",
        "sns.heatmap(correlation_matrix, cmap='Greens', ax=ax)\n",
        "ax.set_title('Task 3:')\n",
        "plt.show()"
      ],
      "metadata": {
        "id": "rYvSMIa3NCPD"
      },
      "execution_count": null,
      "outputs": []
    },
    {
      "cell_type": "code",
      "source": [
        "# ---------------\n",
        "# Task 4: Perform eigendecomposition.\n",
        "# ---------------\n",
        "print('Task 4:')\n",
        "\n",
        "# Perform eigendecomposition using `np.linalg.eig`\n",
        "eigenvalues, eigenvectors = np.linalg.eig(correlation_matrix)\n",
        "print(f'Eigenvalues length: {eigenvalues.size}, Original Number of Features: {data_matrix.shape[1]}')\n",
        "\n",
        "# Order the eigenvalues by ordering the indices of the eigenvalues using `argsort`, and use [::-1] to order them from greatest to smallest\n",
        "indices = eigenvalues.argsort()[::-1]\n",
        "eigenvalues = eigenvalues[indices]\n",
        "eigenvectors = eigenvectors[:, indices]\n",
        "\n",
        "print(eigenvalues.shape, eigenvectors.shape)\n"
      ],
      "metadata": {
        "id": "qLHTFXwENFXH"
      },
      "execution_count": null,
      "outputs": []
    },
    {
      "cell_type": "code",
      "source": [
        "# ---------------\n",
        "# Task 5: Find the variance/information percentages for each eigenvalue.\n",
        "# ---------------\n",
        "# Find the percentages of information for each eigenvector, which is generated by the proportion of its eigenvalues to the sum of all eigenvalues\n",
        "information_proportions = eigenvalues / eigenvalues.sum()\n",
        "information_percents = information_proportions * 100\n",
        "\n",
        "# Plot the principal axes vs the information proportions for each principal axis\n",
        "plt.figure()\n",
        "plt.plot(information_percents, 'ro-', linewidth=2)\n",
        "plt.title('Task 5: Scree Plot')\n",
        "plt.xlabel('Principal Axes')\n",
        "plt.ylabel('Percent of Information Explained')\n",
        "plt.show()"
      ],
      "metadata": {
        "id": "Euoztd9-NLX8"
      },
      "execution_count": null,
      "outputs": []
    },
    {
      "cell_type": "code",
      "source": [
        "\n",
        "# ---------------\n",
        "# Task 6: Find the cumulative variance/information percentages for each eigenvalue.\n",
        "# ---------------\n",
        "# Find the cumulative sum of the percentages\n",
        "cumulative_information_percents = np.cumsum(information_percents)\n",
        "\n",
        "# Plot the cumulative percentages array\n",
        "plt.figure()\n",
        "plt.plot(cumulative_information_percents, 'ro-', linewidth=2)\n",
        "\n",
        "# Also plot a horizontal line indicating the 95% mark, and a vertical line for the third principal axis\n",
        "plt.hlines(y=95, xmin=0, xmax=15)\n",
        "plt.vlines(x=3, ymin=0, ymax=100)\n",
        "plt.title('Task 6: Cumulative Information percentages')\n",
        "plt.xlabel('Principal Axes')\n",
        "plt.ylabel('Cumulative Proportion of Variance Explained')\n",
        "plt.show()"
      ],
      "metadata": {
        "id": "1Zs8oMHyNQQv"
      },
      "execution_count": null,
      "outputs": []
    },
    {
      "cell_type": "markdown",
      "source": [
        "## PART 2:\n",
        "Now here is the most interesting part, where we now apply PCA to extract the most valuable features for classification."
      ],
      "metadata": {
        "id": "zdFtD-glNlF6"
      }
    },
    {
      "cell_type": "code",
      "source": [
        "ata_matrix = pd.read_csv('./data_matrix.csv', index_col=0)\n",
        "classes = pd.read_csv('./classes.csv', index_col=0)['class']\n",
        "\n",
        "# ---------------\n",
        "# Task 1: Calculate the standardized data matrix.\n",
        "# ---------------\n",
        "# Standardize the data matrix\n",
        "mean = data_matrix.mean(axis=0)\n",
        "sttd = data_matrix.std(axis=0)\n",
        "data_matrix_standardized = (data_matrix - mean) / sttd\n"
      ],
      "metadata": {
        "id": "OyiIPsT2NyF8"
      },
      "execution_count": null,
      "outputs": []
    },
    {
      "cell_type": "code",
      "source": [
        "# ---------------\n",
        "# Task 2: Perform PCA by fitting and transforming the data matrix.\n",
        "# ---------------\n",
        "# Find the principal components\n",
        "pca = PCA()\n",
        "\n",
        "# Fit the standardized data and calculate the principal components\n",
        "principal_components = pca.fit_transform(data_matrix_standardized)\n",
        "print(f'Number of features in the data matrix: {principal_components.shape[1]}')\n",
        "print(f'Number of features in the principal components: {data_matrix.shape[1]}')\n"
      ],
      "metadata": {
        "id": "1M3Sh_5eOB0K"
      },
      "execution_count": null,
      "outputs": []
    },
    {
      "cell_type": "code",
      "source": [
        "# ---------------\n",
        "# Task 3: Calculate the eigenvalues from the singular values and extract the eigenvectors.\n",
        "# ---------------\n",
        "# Find the eigenvalues from the singular values\n",
        "singular_values = pca.singular_values_\n",
        "eigenvalues = singular_values ** 2\n",
        "\n",
        "# Eigenvectors are in the property `.components_` as row vectors. To turn them into column vectors, transpose them using the NumPy method `.T`.\n",
        "eigenvectors = pca.components_.T"
      ],
      "metadata": {
        "id": "L1SH6mLdOE9N"
      },
      "execution_count": null,
      "outputs": []
    },
    {
      "cell_type": "code",
      "source": [
        "# ---------------\n",
        "# Task 4: Extract the variance ratios, which are equivalent to the eigenvalue proportions we calculated earlier.\n",
        "# ---------------\n",
        "# Get the variance ratios from the `explained_variance_ratio_`\n",
        "principal_axes_variance_ratios = pca.explained_variance_ratio_\n",
        "principal_axes_variance_percents = principal_axes_variance_ratios * 100"
      ],
      "metadata": {
        "id": "0xj5dZt4OILj"
      },
      "execution_count": null,
      "outputs": []
    },
    {
      "cell_type": "code",
      "source": [
        "\n",
        "# ---------------\n",
        "# Task 5: Perform PCA once again but with 2 components\n",
        "# ---------------\n",
        "# Calculating principal components with 2 components\n",
        "# Initialize a PCA object with 2 components\n",
        "pca = PCA(n_components=2)\n",
        "\n",
        "# Fit the standardized data and calculate the principal components\n",
        "principal_components = pca.fit_transform(data_matrix_standardized)\n",
        "\n",
        "# Print the DataFrame\n",
        "print(f'Number of Principal Components Features: {principal_components.shape[1]}')\n",
        "print(f'Number of Original Data Features: {data_matrix_standardized.shape[1]}')"
      ],
      "metadata": {
        "id": "mm2QJeS8OMTk"
      },
      "execution_count": null,
      "outputs": []
    },
    {
      "cell_type": "code",
      "source": [
        "# ---------------\n",
        "# Task 6: Plot the principal components and have its class as its hue to see if clustering of any kind has occured.\n",
        "# ---------------\n",
        "# Plot the principal components as a scatterplot\n",
        "principal_components_data = pd.DataFrame({\n",
        "    'PC1': principal_components[:, 0],\n",
        "    'PC2': principal_components[:, 1],\n",
        "    'class': classes,\n",
        "})\n",
        "\n",
        "sns.lmplot(x='PC1', y='PC2', data=principal_components_data, hue='class', fit_reg=False)\n",
        "plt.show()\n",
        "\n",
        "\n",
        "# We will use the one-hot-encoded classes as the y\n",
        "y = classes.astype('category').cat.codes"
      ],
      "metadata": {
        "id": "PcJXfEBqOSp5"
      },
      "execution_count": null,
      "outputs": []
    },
    {
      "cell_type": "code",
      "source": [
        "# ---------------\n",
        "# Task 7: Fit the transformed features onto the classifier and generate a score.\n",
        "# ---------------\n",
        "# Get principal components with 2 features\n",
        "# Perform PCA using 2 components\n",
        "pca_1 = PCA(n_components=2)\n",
        "\n",
        "# Use the principal components as X and split the data into 33% testing and the rest training\n",
        "X = pca_1.fit_transform(data_matrix_standardized)\n",
        "X_train, X_test, y_train, y_test = train_test_split(X, y, test_size=0.33, random_state=42)\n",
        "\n",
        "# Create a Linear Support Vector Classifier\n",
        "svc_1 = LinearSVC(random_state=0, tol=1e-5)\n",
        "svc_1.fit(X_train, y_train)\n",
        "\n",
        "# Generate a score for the testing data\n",
        "score_1 = svc_1.score(X_test, y_test)\n",
        "print(f'Score for model with 2 PCA features: {score_1}')"
      ],
      "metadata": {
        "id": "vuwKF1wfOTde"
      },
      "execution_count": null,
      "outputs": []
    },
    {
      "cell_type": "code",
      "source": [
        "# ---------------\n",
        "# Task 8: Now, fit the classifier with the first two feture of the original data matrix and generate a score. Notice the large difference in scores!\n",
        "# ---------------\n",
        "# Using the original features\n",
        "# Select two features from the original data\n",
        "first_two_original_features = [0, 1]\n",
        "X_original = data_matrix_standardized.iloc[:, first_two_original_features]\n",
        "\n",
        "# Split the data intro 33% testing and the rest training\n",
        "X_train, X_test, y_train, y_test = train_test_split(X_original, y, test_size=0.33, random_state=42)\n",
        "\n",
        "# Create a Linear Support Vector Classifier\n",
        "svc_2 = LinearSVC(random_state=0)\n",
        "svc_2.fit(X_train, y_train)\n",
        "\n",
        "# Generate a score for the testing data\n",
        "score_2 = svc_2.score(X_test, y_test)\n",
        "print(f'Score for model with 2 original features: {score_2}')"
      ],
      "metadata": {
        "id": "F9W9rIQ5OWyh"
      },
      "execution_count": null,
      "outputs": []
    }
  ]
}