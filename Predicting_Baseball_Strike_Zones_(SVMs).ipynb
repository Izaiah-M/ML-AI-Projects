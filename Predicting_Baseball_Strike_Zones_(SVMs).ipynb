{
  "nbformat": 4,
  "nbformat_minor": 0,
  "metadata": {
    "colab": {
      "provenance": [],
      "authorship_tag": "ABX9TyNePINURCAwoRzJcG/cRJat"
    },
    "kernelspec": {
      "name": "python3",
      "display_name": "Python 3"
    },
    "language_info": {
      "name": "python"
    }
  },
  "cells": [
    {
      "cell_type": "code",
      "execution_count": 2,
      "metadata": {
        "id": "W_D9X7zlJVjY"
      },
      "outputs": [],
      "source": [
        "import matplotlib.pyplot as plt\n",
        "from sklearn.svm import SVC\n",
        "from sklearn.model_selection import train_test_split\n",
        "from svm_visualization import draw_boundary\n",
        "from players import aaron_judge, jose_altuve, david_ortiz"
      ]
    },
    {
      "cell_type": "code",
      "source": [
        "fig, ax = plt.subplots()\n",
        "\n",
        "aaron_judge.type = aaron_judge.type.map({'S':1, 'B':0})\n",
        "\n",
        "\n",
        "# print(aaron_judge.type)\n",
        "# print(aaron_judge.plate_x)\n",
        "# print(aaron_judge.plate_z)\n",
        "\n",
        "aaron_judge = aaron_judge.dropna(subset = ['type', 'plate_x', 'plate_z'])"
      ],
      "metadata": {
        "id": "IPGsZ6Q5ST2I"
      },
      "execution_count": null,
      "outputs": []
    },
    {
      "cell_type": "code",
      "source": [
        "plt.scatter(x=aaron_judge.plate_x,\n",
        "y=aaron_judge.plate_z,\n",
        "c=aaron_judge.type,\n",
        "cmap=plt.cm.coolwarm,\n",
        "alpha=0.25)\n",
        "\n",
        "training_set, validation_set = train_test_split(aaron_judge,\n",
        "random_state=1)\n",
        "\n",
        "\n",
        "classifier = SVC(kernel='rbf', gamma=1, C=3)\n",
        "\n",
        "classifier.fit(\n",
        "          training_set[[\"plate_x\", \"plate_z\"]],\n",
        "          training_set.type)\n",
        "\n",
        "score = classifier.score(\n",
        "          validation_set[[\"plate_x\", \"plate_z\"]],\n",
        "          validation_set.type)\n",
        "\n",
        "print(score)\n",
        "\n",
        "draw_boundary(ax, classifier)\n",
        "plt.show()\n"
      ],
      "metadata": {
        "id": "DHMGF-InSkwc"
      },
      "execution_count": null,
      "outputs": []
    }
  ]
}